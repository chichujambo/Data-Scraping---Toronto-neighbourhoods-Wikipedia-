{
 "cells": [
  {
   "cell_type": "markdown",
   "metadata": {},
   "source": [
    "# Web Scrapping Project - We will be scraping from Wikipedia"
   ]
  },
  {
   "cell_type": "markdown",
   "metadata": {},
   "source": [
    "### First we need to load all the necessary libraries:"
   ]
  },
  {
   "cell_type": "code",
   "execution_count": null,
   "metadata": {
    "collapsed": true
   },
   "outputs": [],
   "source": [
    "# Importing the libraries\n",
    "import pandas as pd #library to work with data frames\n",
    "import numpy as np #library to work with arrays\n",
    "from bs4 import BeautifulSoup as bs #library to scrape from website\n",
    "import requests #library to make requests to website."
   ]
  },
  {
   "cell_type": "markdown",
   "metadata": {},
   "source": [
    "### Then we are requesting the http to get the text of the website"
   ]
  },
  {
   "cell_type": "code",
   "execution_count": 332,
   "metadata": {
    "collapsed": true
   },
   "outputs": [],
   "source": [
    "source = requests.get('https://en.wikipedia.org/wiki/List_of_postal_codes_of_Canada:_M').text"
   ]
  },
  {
   "cell_type": "markdown",
   "metadata": {},
   "source": [
    "### Now all we have to do is using BeautifulSoup to load the data and build the pandas dataframe."
   ]
  },
  {
   "cell_type": "code",
   "execution_count": 511,
   "metadata": {
    "scrolled": false
   },
   "outputs": [
    {
     "data": {
      "text/html": [
       "<div>\n",
       "<style>\n",
       "    .dataframe thead tr:only-child th {\n",
       "        text-align: right;\n",
       "    }\n",
       "\n",
       "    .dataframe thead th {\n",
       "        text-align: left;\n",
       "    }\n",
       "\n",
       "    .dataframe tbody tr th {\n",
       "        vertical-align: top;\n",
       "    }\n",
       "</style>\n",
       "<table border=\"1\" class=\"dataframe\">\n",
       "  <thead>\n",
       "    <tr style=\"text-align: right;\">\n",
       "      <th></th>\n",
       "      <th>Postcode</th>\n",
       "      <th>Borough</th>\n",
       "      <th>Neighbourhood</th>\n",
       "    </tr>\n",
       "  </thead>\n",
       "  <tbody>\n",
       "    <tr>\n",
       "      <th>0</th>\n",
       "      <td>M1B</td>\n",
       "      <td>Scarborough</td>\n",
       "      <td>[Rouge, Malvern]</td>\n",
       "    </tr>\n",
       "    <tr>\n",
       "      <th>1</th>\n",
       "      <td>M1C</td>\n",
       "      <td>Scarborough</td>\n",
       "      <td>[Highland Creek, Rouge Hill, Port Union]</td>\n",
       "    </tr>\n",
       "    <tr>\n",
       "      <th>2</th>\n",
       "      <td>M1E</td>\n",
       "      <td>Scarborough</td>\n",
       "      <td>[Guildwood, Morningside, West Hill]</td>\n",
       "    </tr>\n",
       "    <tr>\n",
       "      <th>3</th>\n",
       "      <td>M1G</td>\n",
       "      <td>Scarborough</td>\n",
       "      <td>[Woburn]</td>\n",
       "    </tr>\n",
       "    <tr>\n",
       "      <th>4</th>\n",
       "      <td>M1H</td>\n",
       "      <td>Scarborough</td>\n",
       "      <td>[Cedarbrae]</td>\n",
       "    </tr>\n",
       "  </tbody>\n",
       "</table>\n",
       "</div>"
      ],
      "text/plain": [
       "  Postcode      Borough                             Neighbourhood\n",
       "0      M1B  Scarborough                          [Rouge, Malvern]\n",
       "1      M1C  Scarborough  [Highland Creek, Rouge Hill, Port Union]\n",
       "2      M1E  Scarborough       [Guildwood, Morningside, West Hill]\n",
       "3      M1G  Scarborough                                  [Woburn]\n",
       "4      M1H  Scarborough                               [Cedarbrae]"
      ]
     },
     "execution_count": 511,
     "metadata": {},
     "output_type": "execute_result"
    }
   ],
   "source": [
    "soup = bs(source, 'lxml')\n",
    "soup.prettify()\n",
    "header=[]\n",
    "htemp=soup.find(\"table\").tr\n",
    "\n",
    "#Getting the header into a list\n",
    "counter=0\n",
    "for x in htemp.find_all(\"th\"):\n",
    "    header.append(x.text)\n",
    "    \n",
    "#Getting the body into a list with different columns\n",
    "body=[]\n",
    "for i in bod.find_all(\"td\"):\n",
    "    body.append(i.text)\n",
    "    #print(i.text)\n",
    "    \n",
    "Postcode = body[0:len(body):3]\n",
    "Borough = body[1:len(body):3]\n",
    "Neighbourhood = body[2:len(body):3]\n",
    "Neighbourhood= [s.replace('\\n', '') for s in Neighbourhood] #Dropping the \\n\n",
    "\n",
    "#Creating Pandas dataframe\n",
    "df=pd.DataFrame({'Borough':Borough,\n",
    "                 'Postcode':Postcode,\n",
    "                 'Neighbourhood':Neighbourhood})\n",
    "\n",
    "#Reorganizing the dataframe's columns\n",
    "df=df[['Postcode','Borough','Neighbourhood']]\n",
    "\n",
    "#Creating index list with 'Not assigned' boroughs\n",
    "emptybor=df.index[df['Borough']=='Not assigned'].tolist()\n",
    "\n",
    "#Dropping the emptyboroughs\n",
    "df=df.drop(emptybor,axis=0)\n",
    "\n",
    "#reseting the indexes of the new dataframe\n",
    "df=df.reset_index(drop=True)\n",
    "\n",
    "# Finding the indexes for \"Not assigned\" neighbourhoods:\n",
    "nan=df.index[df['Neighbourhood']=='Not assigned'].tolist()\n",
    "\n",
    "#modifying the \"Not assigned\" neighbouhoods to Boroughs\n",
    "df.iloc[nan,2] =df.iloc[nan,1]\n",
    "\n",
    "# Using groupby we can obtain the list of neighbourhoods that are in same postcode.\n",
    "df = df.groupby(['Postcode','Borough'])['Neighbourhood'].apply(list)\n",
    "\n",
    "# Reseting the indexes\n",
    "df=df.reset_index()\n",
    "\n",
    "#looking at the first 5 items of final dataframe\n",
    "df.head()\n"
   ]
  },
  {
   "cell_type": "code",
   "execution_count": 514,
   "metadata": {},
   "outputs": [
    {
     "data": {
      "text/plain": [
       "(103, 3)"
      ]
     },
     "execution_count": 514,
     "metadata": {},
     "output_type": "execute_result"
    }
   ],
   "source": [
    "# Lets see whats the shape of our final dataframe:\n",
    "df.shape"
   ]
  },
  {
   "cell_type": "markdown",
   "metadata": {},
   "source": [
    "The final dataframe contains 103 rows"
   ]
  },
  {
   "cell_type": "code",
   "execution_count": null,
   "metadata": {
    "collapsed": true
   },
   "outputs": [],
   "source": []
  }
 ],
 "metadata": {
  "kernelspec": {
   "display_name": "Python 3",
   "language": "python",
   "name": "python3"
  },
  "language_info": {
   "codemirror_mode": {
    "name": "ipython",
    "version": 3
   },
   "file_extension": ".py",
   "mimetype": "text/x-python",
   "name": "python",
   "nbconvert_exporter": "python",
   "pygments_lexer": "ipython3",
   "version": "3.6.3"
  }
 },
 "nbformat": 4,
 "nbformat_minor": 2
}
